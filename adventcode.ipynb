{
 "cells": [
  {
   "cell_type": "code",
   "execution_count": 1,
   "metadata": {},
   "outputs": [],
   "source": [
    "import numpy as np\n",
    "import pandas as pd"
   ]
  },
  {
   "cell_type": "markdown",
   "metadata": {},
   "source": [
    "# Advent of code\n",
    "## Day 1"
   ]
  },
  {
   "cell_type": "code",
   "execution_count": 2,
   "metadata": {},
   "outputs": [],
   "source": [
    "data = pd.read_csv('input_data/input1.txt',names=['data'])"
   ]
  },
  {
   "cell_type": "code",
   "execution_count": 3,
   "metadata": {},
   "outputs": [
    {
     "name": "stdout",
     "output_type": "stream",
     "text": [
      "1553\n"
     ]
    }
   ],
   "source": [
    "j = 0\n",
    "for row_id in data['data'].index:\n",
    "    if data['data'].iloc[row_id]>data['data'].iloc[row_id-1]:\n",
    "        j+=1\n",
    "print(j)"
   ]
  },
  {
   "cell_type": "code",
   "execution_count": 4,
   "metadata": {},
   "outputs": [
    {
     "name": "stdout",
     "output_type": "stream",
     "text": [
      "1597\n"
     ]
    }
   ],
   "source": [
    "j = 0\n",
    "for row_id in data['data'][:-3].index:\n",
    "    sum_1 = data['data'].iloc[row_id]+data['data'].iloc[row_id+1]+data['data'].iloc[row_id+2]\n",
    "    sum_2 = data['data'].iloc[row_id+1]+data['data'].iloc[row_id+2]+data['data'].iloc[row_id+3]\n",
    "    if sum_1 < sum_2:\n",
    "        j+=1\n",
    "print(j)"
   ]
  },
  {
   "cell_type": "markdown",
   "metadata": {},
   "source": [
    "## Day 2"
   ]
  },
  {
   "cell_type": "code",
   "execution_count": 5,
   "metadata": {},
   "outputs": [],
   "source": [
    "data = pd.read_csv('input_data/input2.txt',names=['data'])"
   ]
  },
  {
   "cell_type": "code",
   "execution_count": 6,
   "metadata": {},
   "outputs": [
    {
     "name": "stdout",
     "output_type": "stream",
     "text": [
      "depth:998,horizontal:1993,Multip:1989014\n"
     ]
    }
   ],
   "source": [
    "pos_depth,pos_horiz = 0,0\n",
    "for row in data['data'].index:\n",
    "    inst,value = data['data'].iloc[row].split()\n",
    "    if inst == 'forward':\n",
    "        pos_horiz+=int(value)\n",
    "    elif inst == 'down':\n",
    "        pos_depth+=int(value)\n",
    "    else:\n",
    "        pos_depth+=-int(value)\n",
    "print('depth:{},horizontal:{},Multip:{}'.format(pos_depth,pos_horiz,pos_depth*pos_horiz))"
   ]
  },
  {
   "cell_type": "code",
   "execution_count": 7,
   "metadata": {},
   "outputs": [
    {
     "name": "stdout",
     "output_type": "stream",
     "text": [
      "depth:1006983,horizontal:1993,Multip:2006917119\n"
     ]
    }
   ],
   "source": [
    "pos_depth,pos_horiz,aim = 0,0,0\n",
    "for row in data['data'].index:\n",
    "    inst,value = data['data'].iloc[row].split()\n",
    "    if inst == 'forward':\n",
    "        pos_horiz+=int(value)\n",
    "        pos_depth+=aim*int(value)\n",
    "    elif inst == 'down':\n",
    "        aim+=int(value)\n",
    "    else:\n",
    "        aim+=-int(value)\n",
    "print('depth:{},horizontal:{},Multip:{}'.format(pos_depth,pos_horiz,pos_depth*pos_horiz))"
   ]
  },
  {
   "cell_type": "markdown",
   "metadata": {},
   "source": [
    "# Day 3"
   ]
  },
  {
   "cell_type": "markdown",
   "metadata": {},
   "source": []
  }
 ],
 "metadata": {
  "interpreter": {
   "hash": "916dbcbb3f70747c44a77c7bcd40155683ae19c65e1c03b4aa3499c5328201f1"
  },
  "kernelspec": {
   "display_name": "Python 3.8.10 64-bit",
   "language": "python",
   "name": "python3"
  },
  "language_info": {
   "codemirror_mode": {
    "name": "ipython",
    "version": 3
   },
   "file_extension": ".py",
   "mimetype": "text/x-python",
   "name": "python",
   "nbconvert_exporter": "python",
   "pygments_lexer": "ipython3",
   "version": "3.9.7"
  },
  "orig_nbformat": 4
 },
 "nbformat": 4,
 "nbformat_minor": 2
}
