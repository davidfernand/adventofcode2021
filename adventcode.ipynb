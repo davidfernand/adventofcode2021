{
 "cells": [
  {
   "cell_type": "code",
   "execution_count": 1,
   "metadata": {},
   "outputs": [],
   "source": [
    "import numpy as np\n",
    "import pandas as pd"
   ]
  },
  {
   "cell_type": "markdown",
   "metadata": {},
   "source": [
    "# Advent of code\n",
    "## Day 1"
   ]
  },
  {
   "cell_type": "code",
   "execution_count": 2,
   "metadata": {},
   "outputs": [],
   "source": [
    "data = pd.read_csv('input_data/input1.txt',names=['data'])"
   ]
  },
  {
   "cell_type": "code",
   "execution_count": 3,
   "metadata": {},
   "outputs": [
    {
     "name": "stdout",
     "output_type": "stream",
     "text": [
      "1553\n"
     ]
    }
   ],
   "source": [
    "j = 0\n",
    "for row_id in data['data'].index:\n",
    "    if data['data'].iloc[row_id]>data['data'].iloc[row_id-1]:\n",
    "        j+=1\n",
    "print(j)"
   ]
  },
  {
   "cell_type": "code",
   "execution_count": 4,
   "metadata": {},
   "outputs": [
    {
     "name": "stdout",
     "output_type": "stream",
     "text": [
      "1597\n"
     ]
    }
   ],
   "source": [
    "j = 0\n",
    "for row_id in data['data'][:-3].index:\n",
    "    sum_1 = data['data'].iloc[row_id]+data['data'].iloc[row_id+1]+data['data'].iloc[row_id+2]\n",
    "    sum_2 = data['data'].iloc[row_id+1]+data['data'].iloc[row_id+2]+data['data'].iloc[row_id+3]\n",
    "    if sum_1 < sum_2:\n",
    "        j+=1\n",
    "print(j)"
   ]
  },
  {
   "cell_type": "markdown",
   "metadata": {},
   "source": [
    "## Day 2"
   ]
  },
  {
   "cell_type": "code",
   "execution_count": 5,
   "metadata": {},
   "outputs": [],
   "source": [
    "data = pd.read_csv('input_data/input2.txt',names=['data'])"
   ]
  },
  {
   "cell_type": "code",
   "execution_count": 6,
   "metadata": {},
   "outputs": [
    {
     "name": "stdout",
     "output_type": "stream",
     "text": [
      "depth:998,horizontal:1993,Multip:1989014\n"
     ]
    }
   ],
   "source": [
    "pos_depth,pos_horiz = 0,0\n",
    "for row in data['data'].index:\n",
    "    inst,value = data['data'].iloc[row].split()\n",
    "    if inst == 'forward':\n",
    "        pos_horiz+=int(value)\n",
    "    elif inst == 'down':\n",
    "        pos_depth+=int(value)\n",
    "    else:\n",
    "        pos_depth+=-int(value)\n",
    "print('depth:{},horizontal:{},Multip:{}'.format(pos_depth,pos_horiz,pos_depth*pos_horiz))"
   ]
  },
  {
   "cell_type": "code",
   "execution_count": 7,
   "metadata": {},
   "outputs": [
    {
     "name": "stdout",
     "output_type": "stream",
     "text": [
      "depth:1006983,horizontal:1993,Multip:2006917119\n"
     ]
    }
   ],
   "source": [
    "pos_depth,pos_horiz,aim = 0,0,0\n",
    "for row in data['data'].index:\n",
    "    inst,value = data['data'].iloc[row].split()\n",
    "    if inst == 'forward':\n",
    "        pos_horiz+=int(value)\n",
    "        pos_depth+=aim*int(value)\n",
    "    elif inst == 'down':\n",
    "        aim+=int(value)\n",
    "    else:\n",
    "        aim+=-int(value)\n",
    "print('depth:{},horizontal:{},Multip:{}'.format(pos_depth,pos_horiz,pos_depth*pos_horiz))"
   ]
  },
  {
   "cell_type": "markdown",
   "metadata": {},
   "source": [
    "# Day 3"
   ]
  },
  {
   "cell_type": "code",
   "execution_count": 8,
   "metadata": {},
   "outputs": [
    {
     "name": "stdout",
     "output_type": "stream",
     "text": [
      "gamma rate:22, epsilon rate:9 ,Power consumption:198\n"
     ]
    }
   ],
   "source": [
    "#data = pd.read_csv('input_data/input3.txt',names=['data'], dtype={\"data\":\"string\"})\n",
    "data = pd.read_csv('input_data/input3_test.txt',names=['data'],dtype={\"data\":\"string\"})\n",
    "\n",
    "bit_pos_max = np.zeros((len(data['data'][0],)))\n",
    "bit_pos_min = np.zeros((len(data['data'][0],)))\n",
    "for row in data['data'].index:\n",
    "    for bit_ix in np.arange(0,np.size(bit_pos_max)):\n",
    "        if int(data['data'][row][bit_ix])>0: \n",
    "            bit_pos_max[bit_ix] += 1\n",
    "        else:\n",
    "            bit_pos_min[bit_ix] += 1\n",
    "gamma_rate = int(\"\".join(map(str, (bit_pos_max > bit_pos_min)*1)),2)\n",
    "eps_rate   = int(\"\".join(map(str, (bit_pos_max < bit_pos_min)*1)),2)\n",
    "print('gamma rate:{}, epsilon rate:{} ,Power consumption:{}'.format(gamma_rate,eps_rate,gamma_rate*eps_rate))"
   ]
  },
  {
   "cell_type": "code",
   "execution_count": 9,
   "metadata": {},
   "outputs": [
    {
     "name": "stdout",
     "output_type": "stream",
     "text": [
      "O2 generator rating: 3399, CO2 scrubber rating: 1249 , Life support rating: 4245351\n"
     ]
    }
   ],
   "source": [
    "#dataO2 = pd.read_csv('input_data/input3_test.txt',names=['data'],dtype={\"data\":\"string\"})\n",
    "dataO2 = pd.read_csv('input_data/input3.txt',names=['data'],dtype={\"data\":\"string\"})\n",
    "\n",
    "bit_pos_max = np.zeros((len(dataO2['data'][0],)))\n",
    "for bit_ix in np.arange(0,np.size(bit_pos_max)):\n",
    "    bit_pos_max = np.zeros((len(dataO2['data'][0],)))\n",
    "    bit_pos_min = np.zeros((len(dataO2['data'][0],)))\n",
    "    for row in dataO2['data'].index:\n",
    "        for bit_ix_pos in np.arange(0,np.size(bit_pos_max)):\n",
    "            if int(dataO2['data'][row][bit_ix_pos])>0: \n",
    "                bit_pos_max[bit_ix_pos] += 1\n",
    "            else:\n",
    "                bit_pos_min[bit_ix_pos] += 1\n",
    "    if dataO2['data'].index[-1]>0:\n",
    "        max_row = dataO2['data'].index\n",
    "        for row in max_row:\n",
    "            if bit_pos_max[bit_ix] == bit_pos_min[bit_ix]:\n",
    "                bit_pos_max[bit_ix] +=1 \n",
    "            if dataO2['data'][row][bit_ix] != \"\".join(map(str, (bit_pos_max > bit_pos_min)*1))[bit_ix]:\n",
    "                dataO2['data']=dataO2['data'].drop([row])\n",
    "        dataO2 = dataO2.dropna(subset=['data']).reset_index(drop=True)\n",
    "\n",
    "O2_gen_rating = int(dataO2['data'][0],2)\n",
    "\n",
    "#dataCO2 = pd.read_csv('input_data/input3_test.txt',names=['data'],dtype={\"data\":\"string\"})\n",
    "dataCO2 = pd.read_csv('input_data/input3.txt',names=['data'],dtype={\"data\":\"string\"})\n",
    "\n",
    "bit_pos_max = np.zeros((len(dataCO2['data'][0],)))\n",
    "for bit_ix in np.arange(0,np.size(bit_pos_max)):\n",
    "    bit_pos_max = np.zeros((len(dataCO2['data'][0],)))\n",
    "    bit_pos_min = np.zeros((len(dataCO2['data'][0],)))\n",
    "    for row in dataCO2['data'].index:\n",
    "        for bit_ix_pos in np.arange(0,np.size(bit_pos_max)):\n",
    "            if int(dataCO2['data'][row][bit_ix_pos])>0: \n",
    "                bit_pos_min[bit_ix_pos] += 1\n",
    "            else:\n",
    "                bit_pos_max[bit_ix_pos] += 1\n",
    "    if dataCO2['data'].index[-1]>0:\n",
    "        max_row = dataCO2['data'].index\n",
    "        for row in max_row:\n",
    "            if bit_pos_max[bit_ix] == bit_pos_min[bit_ix]:\n",
    "                bit_pos_min[bit_ix] +=1 \n",
    "            if dataCO2['data'][row][bit_ix] != \"\".join(map(str, (bit_pos_max > bit_pos_min)*1))[bit_ix]:\n",
    "                dataCO2['data']=dataCO2['data'].drop([row])\n",
    "        dataCO2 = dataCO2.dropna(subset=['data']).reset_index(drop=True)\n",
    "\n",
    "CO2_scrub_rating = int(dataCO2['data'][0],2)\n",
    "\n",
    "print('O2 generator rating: {}, CO2 scrubber rating: {} , Life support rating: {}'.format(O2_gen_rating,CO2_scrub_rating,O2_gen_rating*CO2_scrub_rating))"
   ]
  },
  {
   "cell_type": "markdown",
   "metadata": {},
   "source": [
    "# Day 4"
   ]
  },
  {
   "cell_type": "code",
   "execution_count": 10,
   "metadata": {},
   "outputs": [],
   "source": [
    "data_random = pd.read_csv('input_data/input4_random.txt',header =None).T\n",
    "#data_random = pd.read_csv('input_data/input4_test_random.txt',header =None).T\n",
    "data_random=data_random.rename(columns={0: \"data\"})\n",
    "n_random = data_random\n",
    "data_grids_np = np.genfromtxt('input_data/input4_grids.txt')\n",
    "#data_grids_np = np.genfromtxt('input_data/input4_test_grids.txt')\n",
    "data_grids = pd.DataFrame(data=data_grids_np)"
   ]
  },
  {
   "cell_type": "code",
   "execution_count": 11,
   "metadata": {},
   "outputs": [
    {
     "name": "stderr",
     "output_type": "stream",
     "text": [
      "C:\\Users\\David\\AppData\\Local\\Temp/ipykernel_15384/994294046.py:23: VisibleDeprecationWarning: Creating an ndarray from ragged nested sequences (which is a list-or-tuple of lists-or-tuples-or ndarrays with different lengths or shapes) is deprecated. If you meant to do this, you must specify 'dtype=object' when creating the ndarray.\n",
      "  results=np.append(results,np.array([[int(grid_n),bingo_number,bingo_line.values,counter,sum_num]]),axis=0)\n",
      "C:\\Users\\David\\AppData\\Local\\Temp/ipykernel_15384/994294046.py:17: VisibleDeprecationWarning: Creating an ndarray from ragged nested sequences (which is a list-or-tuple of lists-or-tuples-or ndarrays with different lengths or shapes) is deprecated. If you meant to do this, you must specify 'dtype=object' when creating the ndarray.\n",
      "  results=np.append(results,np.array([[int(grid_n),bingo_number,bingo_line.values,counter,sum_num]]),axis=0)\n"
     ]
    },
    {
     "name": "stdout",
     "output_type": "stream",
     "text": [
      "bingo_sum: 859, bingo_number: 68, Score: 58412\n"
     ]
    }
   ],
   "source": [
    "grid_dim = 5\n",
    "size_grid = np.shape(data_grids)[0]\n",
    "# Save all random and grid results (not well optimized)\n",
    "results = np.empty((0,5),dtype=object)\n",
    "for grid_n in np.linspace(0,size_grid-grid_dim,int(np.shape(data_grids)[0]/grid_dim)):\n",
    "    grid = data_grids.iloc[int(grid_n):int(grid_n)+grid_dim]\n",
    "    comparison = pd.DataFrame(np.zeros((grid_dim, grid_dim)))\n",
    "    counter = 0\n",
    "    for i in np.arange(0,np.size(n_random['data'])):\n",
    "        grid_random = n_random['data'][i]*pd.DataFrame(np.ones((grid_dim, grid_dim)))\n",
    "        comparison=(grid_random == grid.values)+comparison\n",
    "        check_sum_row = comparison.sum(axis=1)\n",
    "        for row in check_sum_row.index:\n",
    "            if int(check_sum_row[row])==grid_dim:\n",
    "                bingo_line,bingo_number = grid.loc[row+int(grid_n)],n_random['data'][i]\n",
    "                sum_num = int(np.sum(np.sum(grid.reset_index(drop=True)*(~(comparison==True)))))\n",
    "                results=np.append(results,np.array([[int(grid_n),bingo_number,bingo_line.values,counter,sum_num]]),axis=0)\n",
    "        check_sum_col = comparison.sum(axis=0)\n",
    "        for col in check_sum_col.index:\n",
    "            if int(check_sum_col[col])==grid_dim:\n",
    "                bingo_line,bingo_number = grid[col],n_random['data'][i]\n",
    "                sum_num = int(np.sum(np.sum(grid.reset_index(drop=True)*(~(comparison==True)))))\n",
    "                results=np.append(results,np.array([[int(grid_n),bingo_number,bingo_line.values,counter,sum_num]]),axis=0)\n",
    "        counter+=1\n",
    "bingo_sum = np.sum(results[results[:,3]==np.min(results[:,3])][0][4])\n",
    "bingo_number = results[results[:,3]==np.min(results[:,3])][0][1]\n",
    "print('bingo_sum: {}, bingo_number: {}, Score: {}'.format(bingo_sum,bingo_number,bingo_sum*bingo_number))"
   ]
  },
  {
   "cell_type": "code",
   "execution_count": 12,
   "metadata": {},
   "outputs": [
    {
     "name": "stdout",
     "output_type": "stream",
     "text": [
      "Last bingo sum: 170, Last bingo number: 59, Score: 10030\n"
     ]
    }
   ],
   "source": [
    "counter_grid = 0\n",
    "grid_winners = np.empty((0, 3),dtype=object)\n",
    "for grid_n in np.linspace(0,size_grid-grid_dim,int(np.shape(data_grids)[0]/grid_dim)):\n",
    "    look_min = results[results[:,0]==int(grid_n)]\n",
    "    grid_winner = look_min[look_min[:,3]==np.min(look_min[:,3])][0]\n",
    "    bingo_number = grid_winner[1]\n",
    "    sum_num = grid_winner[4]\n",
    "    counter = grid_winner[3]\n",
    "    grid_winners=np.append(grid_winners,np.array([[counter,bingo_number,sum_num]]),axis=0)\n",
    "last_winner = grid_winners[grid_winners[:,0]==np.max(grid_winners[:,0])][0]\n",
    "bingo_sum = last_winner[2]\n",
    "bingo_number = last_winner[1]\n",
    "print('Last bingo sum: {}, Last bingo number: {}, Score: {}'.format(bingo_sum,bingo_number,bingo_sum*bingo_number))"
   ]
  },
  {
   "cell_type": "markdown",
   "metadata": {},
   "source": [
    "# Day 5"
   ]
  }
 ],
 "metadata": {
  "interpreter": {
   "hash": "916dbcbb3f70747c44a77c7bcd40155683ae19c65e1c03b4aa3499c5328201f1"
  },
  "kernelspec": {
   "display_name": "Python 3.8.10 64-bit",
   "language": "python",
   "name": "python3"
  },
  "language_info": {
   "codemirror_mode": {
    "name": "ipython",
    "version": 3
   },
   "file_extension": ".py",
   "mimetype": "text/x-python",
   "name": "python",
   "nbconvert_exporter": "python",
   "pygments_lexer": "ipython3",
   "version": "3.9.7"
  },
  "orig_nbformat": 4
 },
 "nbformat": 4,
 "nbformat_minor": 2
}
